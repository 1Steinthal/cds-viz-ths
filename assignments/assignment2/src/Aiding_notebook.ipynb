{
 "cells": [
  {
   "cell_type": "markdown",
   "metadata": {},
   "source": [
    "## Assignment 2 as a notebook"
   ]
  },
  {
   "cell_type": "code",
   "execution_count": 141,
   "metadata": {},
   "outputs": [],
   "source": [
    "#Import of packages\n",
    "import os\n",
    "import sys\n",
    "sys.path.append(\"..\")\n",
    "\n",
    "# Import teaching utils\n",
    "import numpy as np\n",
    "import utils.classifier_utils as clf_util\n",
    "import cv2\n",
    "import pandas as pd\n",
    "from utils.imutils import jimshow\n",
    "from utils.imutils import jimshow_channel\n",
    "\n",
    "# Import sklearn metrics\n",
    "from sklearn import metrics\n",
    "from sklearn.datasets import fetch_openml\n",
    "from sklearn.model_selection import train_test_split\n",
    "from sklearn.linear_model import LogisticRegression\n",
    "from sklearn.metrics import accuracy_score\n",
    "from sklearn.neural_network import MLPClassifier\n",
    "\n",
    "#Dataset\n",
    "from tensorflow.keras.datasets import cifar10\n",
    "\n",
    "# Visualisation\n",
    "import matplotlib.pyplot as plt"
   ]
  },
  {
   "cell_type": "code",
   "execution_count": 39,
   "metadata": {},
   "outputs": [],
   "source": [
    "(X_train, y_train), (X_test, y_test) = cifar10.load_data()"
   ]
  },
  {
   "cell_type": "code",
   "execution_count": 80,
   "metadata": {},
   "outputs": [],
   "source": [
    "def X_preproces(data, dim, name):\n",
    "    output_array = np.empty((1, dim*dim))\n",
    "\n",
    "    for i, img in enumerate(data):\n",
    "        img_g = cv2.cvtColor(data[i], cv2.COLOR_BGR2GRAY)\n",
    "        img_gr = img_g.reshape(-1, dim*dim)\n",
    "        img_grn = img_gr/255.0\n",
    "        output_array = np.append(output_array, img_grn, axis=0) \n",
    "\n",
    "    outpath = os.path.join(\"..\", \"out\", \"X_\" + name + \"_preprocessed.npy\")\n",
    "    np.save(outpath, output_array)\n",
    "    return output_array\n",
    "\n",
    "\n",
    "\n",
    "def X_load(filename):\n",
    "    X_file = np.load(filename)\n",
    "    X_file = np.delete(X_file, 0, 0) #For some reason my np.array is lengthened by one. I have identified the first element to be the issue\n",
    "\n",
    "    return X_file\n",
    "\n",
    "\n",
    "\n",
    "def create_models(X_train_p, y_train, model):\n",
    "    if model == 0:\n",
    "        clf = LogisticRegression(tol=0.1, \n",
    "                        solver='saga',\n",
    "                        multi_class='multinomial').fit(X_train_p, y_train)\n",
    "    \n",
    "    elif model == 1:\n",
    "        clf = MLPClassifier(activation = \"logistic\",\n",
    "                           hidden_layer_sizes = (20,),\n",
    "                           max_iter=1000,\n",
    "                           random_state = 42).fit(X_train_p, y_train)\n",
    "        \n",
    "    return clf\n",
    "    \n",
    "\n",
    "def save_cls_reports_and_plots(model, X_test, y_test, lbl_names, path_spec):\n",
    "    y_pred = model.predict(X_test)\n",
    "\n",
    "    cr = pd.DataFrame(metrics.classification_report(y_test, y_pred, output_dict=True)).transpose()\n",
    "    outpath = os.path.join(\"..\", \"out\", \"classification_report\" + path_spec + \".csv\")\n",
    "    cr.to_csv(outpath, index= True)\n",
    "\n",
    "\n",
    "    plt.plot(model.loss_curve_)\n",
    "    plt.title(\"Loss curve during training\", fontsize=14)\n",
    "    plt.xlabel('Iterations')\n",
    "    plt.ylabel('Loss score')\n",
    "    plt.show()\n",
    "    plt.plot(model.loss_curve_)\n",
    "    outpath = os.path.join(\"..\", \"out\", \"loss_curve\" + path_spec + \".png\")\n",
    "    plt.savefig(outpath)\n",
    "\n",
    "    return \"Finished\""
   ]
  },
  {
   "cell_type": "code",
   "execution_count": 123,
   "metadata": {},
   "outputs": [
    {
     "name": "stdout",
     "output_type": "stream",
     "text": [
      "[[0.24313725 0.17647059 0.18431373 ... 0.68235294 0.43921569 0.35294118]] [0.24313725 0.17647059 0.18431373 ... 0.68235294 0.43921569 0.35294118]\n"
     ]
    }
   ],
   "source": [
    "#Example to check why the dataset was lengthened to 50001..\n",
    "a = cv2.cvtColor(X_train[0], cv2.COLOR_BGR2GRAY)\n",
    "a = a.reshape(1, 1024)\n",
    "a = a/255.0\n",
    "\n",
    "print(a, X_train_p[0])"
   ]
  }
 ],
 "metadata": {
  "kernelspec": {
   "display_name": "Python 3",
   "language": "python",
   "name": "python3"
  },
  "language_info": {
   "codemirror_mode": {
    "name": "ipython",
    "version": 3
   },
   "file_extension": ".py",
   "mimetype": "text/x-python",
   "name": "python",
   "nbconvert_exporter": "python",
   "pygments_lexer": "ipython3",
   "version": "3.12.2"
  }
 },
 "nbformat": 4,
 "nbformat_minor": 2
}
